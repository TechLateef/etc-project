{
 "cells": [
  {
   "cell_type": "markdown",
   "metadata": {},
   "source": [
    "# Will be performing Web scraping in this project on banks\n",
    "\n",
    "## process\n",
    "* Extract the data from the web\n",
    "* Transform that data \n",
    "* Load the data to sqlite3 database"
   ]
  },
  {
   "cell_type": "code",
   "execution_count": 2,
   "metadata": {},
   "outputs": [],
   "source": [
    "# import the relevant packages\n",
    "import pandas as pd\n",
    "from bs4 import BeautifulSoup\n",
    "from datetime import datetime\n",
    "import requests\n",
    "import numpy as np\n",
    "import sqlite3\n",
    "\n"
   ]
  },
  {
   "cell_type": "markdown",
   "metadata": {},
   "source": [
    "### all url and files that will be needed through out the project including variables are all definde below"
   ]
  },
  {
   "cell_type": "code",
   "execution_count": 3,
   "metadata": {},
   "outputs": [],
   "source": [
    "url = 'https://web.archive.org/web/20230908091635 /https://en.wikipedia.org/wiki/List_of_largest_banks'\n",
    "# initial table attribute to be fetch from the web\n",
    "table_attribute = ['Name','MC_USD_Billion']\n",
    "# Final table attribute \n",
    "ftable_attribute =['Name','MC_USD_Billion','MC_GBP_Billion','MC_EUR_Billion','MC_INR_Billion']\n",
    "# where to save the file as csv\n",
    "target_file = './Largest_bank_data.csv'\n",
    "# database name to be use \n",
    "db_name = 'Banks.db'\n",
    "# table name where the data will be stored in db\n",
    "table_name='Largest_banks'\n",
    "# log file \n",
    "log_file = 'code_log.txt'\n",
    "\n"
   ]
  },
  {
   "cell_type": "markdown",
   "metadata": {},
   "source": [
    "#### # rate file that contain rate of some currency to dollars\n"
   ]
  },
  {
   "cell_type": "code",
   "execution_count": 4,
   "metadata": {},
   "outputs": [],
   "source": [
    "rate_file = pd.read_csv('./exchange_rate.csv')"
   ]
  },
  {
   "cell_type": "markdown",
   "metadata": {},
   "source": [
    "#### # convert the exchange rate read above to to dictionary"
   ]
  },
  {
   "cell_type": "code",
   "execution_count": 5,
   "metadata": {},
   "outputs": [],
   "source": [
    "exchange_rate = rate_file.set_index('Currency').to_dict()['Rate']"
   ]
  },
  {
   "cell_type": "markdown",
   "metadata": {},
   "source": [
    "### #Create the logfile which will handle writing the process with time in a file "
   ]
  },
  {
   "cell_type": "code",
   "execution_count": 6,
   "metadata": {},
   "outputs": [],
   "source": [
    "def log_progress(message):\n",
    "    timestamp_format = '%Y-%d-%D-%H:%M:%S'\n",
    "    now = datetime.now()\n",
    "    timestamp = now.strftime(timestamp_format)\n",
    "    with open(log_file, 'a') as f:\n",
    "        f.write(timestamp + \", \" + message + \"\\n\" )\n"
   ]
  },
  {
   "cell_type": "markdown",
   "metadata": {},
   "source": [
    "### This part is where we extract the date from the url we declare at the top level using requests & BeautifulSoup\n",
    "\n",
    "#### steps in this functions are \n",
    "* we fetch the page from the url as text\n",
    "* we fetch the html contents using Beautiful soup\n",
    "* we define our dataframe\n",
    "* then we fetch all tables in the html\n",
    "* we notice that the table which we find want to fetch data from is at index 0 so we fetch all row in that index\n",
    "* we now loop through the table row(tr) \n",
    "* we fetch all data(td) and indicate it as col \n",
    "* we check if col id not 0 we loop through table row (tr) to fetch data in each row \n",
    "* then we store them in diction \n",
    "* then we create a dataframe with that dictionary of data\n",
    "* lastly we joing the new dataframe created with the df created in line 3 inside the function"
   ]
  },
  {
   "cell_type": "code",
   "execution_count": 36,
   "metadata": {},
   "outputs": [],
   "source": [
    "def extract(url, table_attribute):\n",
    "    page = requests.get(url).text\n",
    "    html = BeautifulSoup(page, 'html.parser')\n",
    "    df = pd.DataFrame(columns=table_attribute)\n",
    "    tables = html.find_all('tbody')\n",
    "    rows = tables[1].find_all('tr')\n",
    "    for row in rows:\n",
    "        col = row.find_all('td')\n",
    "        if col:\n",
    "            name = str(col[1].find_all('a')[1].text)\n",
    "            mc_usd_billion_str = col[2].contents[0].strip().replace('\\n', ',')\n",
    "            mc_usd_billion_str = mc_usd_billion_str.replace(',', '')\n",
    "            data_dic = {'Name': name,\n",
    "                        'MC_USD_Billion': float(mc_usd_billion_str)}\n",
    "            df1 = pd.DataFrame(data_dic, index=[0])\n",
    "            df = pd.concat([df, df1], ignore_index=True)\n",
    "\n",
    "    return df"
   ]
  },
  {
   "cell_type": "markdown",
   "metadata": {},
   "source": [
    "#### #TRansform the data in billion"
   ]
  },
  {
   "cell_type": "code",
   "execution_count": 37,
   "metadata": {},
   "outputs": [],
   "source": [
    "def transform(df, csv_path):\n",
    "    df['MC_GBP_Billion'] = [\n",
    "        np.round(x * exchange_rate['GBP'], 2) for x in df['MC_USD_Billion']]\n",
    "    df['MC_INR_Billion'] = [\n",
    "        np.round(x * exchange_rate['INR'], 2) for x in df['MC_USD_Billion']]\n",
    "    df['MC_EUR_Billion'] = [\n",
    "        np.round(x * exchange_rate['EUR'], 2) for x in df['MC_USD_Billion']]\n",
    "    return df"
   ]
  },
  {
   "cell_type": "markdown",
   "metadata": {},
   "source": [
    "#### Load the data into csv file"
   ]
  },
  {
   "cell_type": "code",
   "execution_count": 38,
   "metadata": {},
   "outputs": [],
   "source": [
    "def load_to_csv(df, output_path):\n",
    "    df.to_csv(output_path)"
   ]
  },
  {
   "cell_type": "markdown",
   "metadata": {},
   "source": [
    "#### Load the data into db"
   ]
  },
  {
   "cell_type": "code",
   "execution_count": 39,
   "metadata": {},
   "outputs": [],
   "source": [
    "def load_to_db(df, sql_connection, table_name):\n",
    "    df.to_sql(table_name, sql_connection, if_exists='replace', index=False)"
   ]
  },
  {
   "cell_type": "markdown",
   "metadata": {},
   "source": [
    "#### create a function for running query "
   ]
  },
  {
   "cell_type": "code",
   "execution_count": 40,
   "metadata": {},
   "outputs": [],
   "source": [
    "def run_query(query_statement, sql_connection):\n",
    "    print(query_statement)\n",
    "    query_output = pd.read_sql(query_statement, sql_connection)\n",
    "    print(query_output)"
   ]
  },
  {
   "cell_type": "code",
   "execution_count": 41,
   "metadata": {},
   "outputs": [],
   "source": [
    "# Log the initialization of the ETL process \n",
    "log_progress(\"ETL Job Started\") \n",
    " \n",
    "# Log the beginning of the Extraction process \n",
    "log_progress(\"Extract phase Started\") \n",
    "extracted_data = extract(url,table_attribute) \n",
    " \n",
    "# Log the completion of the Extraction process \n",
    "log_progress(\"Extract phase Ended\") "
   ]
  },
  {
   "cell_type": "code",
   "execution_count": 42,
   "metadata": {},
   "outputs": [
    {
     "name": "stdout",
     "output_type": "stream",
     "text": [
      "Transformed Data\n",
      "                                               Name  MC_USD_Billion  \\\n",
      "0   Industrial and Commercial Bank of China Limited         5742.86   \n",
      "1                           China Construction Bank         5016.81   \n",
      "2                        Agricultural Bank of China         4919.03   \n",
      "3                                     Bank of China         4192.12   \n",
      "4                                    JPMorgan Chase         3868.24   \n",
      "..                                              ...             ...   \n",
      "95                          National Bank of Canada          312.67   \n",
      "96                                  Macquarie Group          313.47   \n",
      "97                      Nationwide Building Society          311.93   \n",
      "98                                Raiffeisen Gruppe          303.50   \n",
      "99                             First Abu Dhabi Bank          302.22   \n",
      "\n",
      "    MC_GBP_Billion  MC_INR_Billion  MC_EUR_Billion  \n",
      "0          4594.29       476370.24         5340.86  \n",
      "1          4013.45       416144.39         4665.63  \n",
      "2          3935.22       408033.54         4574.70  \n",
      "3          3353.70       347736.35         3898.67  \n",
      "4          3094.59       320870.51         3597.46  \n",
      "..             ...             ...             ...  \n",
      "95          250.14        25935.98          290.78  \n",
      "96          250.78        26002.34          291.53  \n",
      "97          249.54        25874.59          290.09  \n",
      "98          242.80        25175.32          282.26  \n",
      "99          241.78        25069.15          281.06  \n",
      "\n",
      "[100 rows x 5 columns]\n"
     ]
    }
   ],
   "source": [
    "# # Log the beginning of the Transformation process \n",
    "log_progress(\"Transform phase Started\") \n",
    "transformed_data = transform(extracted_data,target_file) \n",
    "print(\"Transformed Data\") \n",
    "print(transformed_data) \n",
    "\n",
    "# Log the completion of the Transformation process \n",
    "log_progress(\"Transform phase Ended\") "
   ]
  },
  {
   "cell_type": "code",
   "execution_count": 43,
   "metadata": {},
   "outputs": [],
   "source": [
    "\n",
    "# Log the beginning of the Loading process \n",
    "log_progress(\"Load phase Started\") \n",
    "load_to_csv(transformed_data,target_file)\n",
    "\n",
    "# Log the completion of the Loading process \n",
    "log_progress(\"Load phase Ended\") "
   ]
  },
  {
   "cell_type": "code",
   "execution_count": 44,
   "metadata": {},
   "outputs": [],
   "source": [
    "conn = sqlite3.connect(db_name)\n",
    "\n",
    " \n",
    "# Log the beginning of the Loading process \n",
    "log_progress(\"Load to db phase Started\") \n",
    "load_to_db(transformed_data,conn,table_name) \n",
    " \n",
    "# Log the completion of the Loading process \n",
    "log_progress(\"Load to db phase Ended\") "
   ]
  },
  {
   "cell_type": "code",
   "execution_count": 45,
   "metadata": {},
   "outputs": [
    {
     "name": "stdout",
     "output_type": "stream",
     "text": [
      "SELECT * FROM Largest_banks\n",
      "                                               Name  MC_USD_Billion  \\\n",
      "0   Industrial and Commercial Bank of China Limited         5742.86   \n",
      "1                           China Construction Bank         5016.81   \n",
      "2                        Agricultural Bank of China         4919.03   \n",
      "3                                     Bank of China         4192.12   \n",
      "4                                    JPMorgan Chase         3868.24   \n",
      "..                                              ...             ...   \n",
      "95                          National Bank of Canada          312.67   \n",
      "96                                  Macquarie Group          313.47   \n",
      "97                      Nationwide Building Society          311.93   \n",
      "98                                Raiffeisen Gruppe          303.50   \n",
      "99                             First Abu Dhabi Bank          302.22   \n",
      "\n",
      "    MC_GBP_Billion  MC_INR_Billion  MC_EUR_Billion  \n",
      "0          4594.29       476370.24         5340.86  \n",
      "1          4013.45       416144.39         4665.63  \n",
      "2          3935.22       408033.54         4574.70  \n",
      "3          3353.70       347736.35         3898.67  \n",
      "4          3094.59       320870.51         3597.46  \n",
      "..             ...             ...             ...  \n",
      "95          250.14        25935.98          290.78  \n",
      "96          250.78        26002.34          291.53  \n",
      "97          249.54        25874.59          290.09  \n",
      "98          242.80        25175.32          282.26  \n",
      "99          241.78        25069.15          281.06  \n",
      "\n",
      "[100 rows x 5 columns]\n",
      "SELECT AVG(MC_GBP_Billion) FROM Largest_banks\n",
      "   AVG(MC_GBP_Billion)\n",
      "0             896.9811\n",
      "SELECT Name from Largest_banks LIMIT 5\n",
      "                                              Name\n",
      "0  Industrial and Commercial Bank of China Limited\n",
      "1                          China Construction Bank\n",
      "2                       Agricultural Bank of China\n",
      "3                                    Bank of China\n",
      "4                                   JPMorgan Chase\n"
     ]
    }
   ],
   "source": [
    "\n",
    "run_query(f\"SELECT * FROM Largest_banks\",conn)\n",
    "run_query(f\"SELECT AVG(MC_GBP_Billion) FROM Largest_banks\",conn)\n",
    "run_query(f\"SELECT Name from Largest_banks LIMIT 5\",conn)\n",
    "# Log the completion of the ETL pr"
   ]
  },
  {
   "cell_type": "code",
   "execution_count": null,
   "metadata": {},
   "outputs": [],
   "source": []
  }
 ],
 "metadata": {
  "kernelspec": {
   "display_name": "ArewaDS",
   "language": "python",
   "name": "python3"
  },
  "language_info": {
   "codemirror_mode": {
    "name": "ipython",
    "version": 3
   },
   "file_extension": ".py",
   "mimetype": "text/x-python",
   "name": "python",
   "nbconvert_exporter": "python",
   "pygments_lexer": "ipython3",
   "version": "3.8.18"
  }
 },
 "nbformat": 4,
 "nbformat_minor": 2
}
